{
 "cells": [
  {
   "cell_type": "markdown",
   "metadata": {},
   "source": [
    "# Actividad: Resolución de Código y Explicación en Video\n",
    "\n",
    "## Objetivo:\n",
    "Resolver un problema de programación en Python utilizando POO y herencia, y luego realizar un video explicativo de no entre 3 y 5 minutos sobre cómo resolvieron el problema.\n",
    "\n",
    "## Consigna:\n",
    "#### Problema de Programación:\n",
    "\n",
    "## Descripción del Problema:\n",
    "Escribir un programa en Python que administre una lista de tareas. El programa debe permitir al usuario agregar, eliminar y listar tareas. Cada tarea tendrá un nombre, una descripción y una prioridad (alta, media, baja). Además, habrá diferentes tipos de tareas: TareaGeneral y TareaConFecha, cada una con características adicionales.\n",
    "\n",
    "### Requisitos del Código:\n",
    "\n",
    "1. El programa debe permitir agregar una nueva tarea.\n",
    "2. El programa debe permitir eliminar una tarea existente.\n",
    "3. El programa debe permitir listar todas las tareas con sus detalles.\n",
    "4. El programa debe estar diseñado utilizando POO e incluir herencia.\n",
    "\n",
    "## Video Explicativo:\n",
    "\n",
    "Duración: Máximo entre 3 y 5 minutos.\n",
    "\n",
    "## Contenido del Video:\n",
    "\n",
    "1. Introducción:\n",
    "    + Presenta brevemente quién eres.\n",
    "2. Explicación del Código:\n",
    "    + Muestra y explica tu código paso a paso.\n",
    "    + Ejecuta tu código y muestra que funciona correctamente con un ejemplo.\n",
    "3. Conclusión: Resume brevemente lo que has explicado.\n",
    "\n",
    "### Criterios de Evaluación:\n",
    "   +  Exactitud: El código debe resolver correctamente el problema planteado. \n",
    "    \n",
    "   + Claridad del Código: El código debe estar bien estructurado y comentado.\n",
    "\n",
    "### Calidad del Video:\n",
    "   + La explicación debe ser clara y concisa.\n",
    "   + El video debe estar bien organizado y dentro del tiempo límite.\n",
    "\n",
    "### Entrega:\n",
    "   + Compartir el link de GitHub del repositorio de la solución.\n",
    "   + Subir el video .mp4 al drive del alumno y compartir el link junto con la entrega del código.\n",
    "\n",
    "<u><em>Fecha Límite: 19 de junio de 2024 a las 23:59 hs.</em></u>\n",
    "\n",
    "## ¡Espero ver sus creativas soluciones y sus presentaciones claras y concisas! ¡Buena suerte y a programar!\n"
   ]
  },
  {
   "cell_type": "markdown",
   "metadata": {},
   "source": [
    "## Descripción del Problema:\n",
    "Escribir un programa en Python que administre una lista de tareas. El programa debe permitir al usuario agregar, eliminar y listar tareas. Cada tarea tendrá un nombre, una descripción y una prioridad (alta, media, baja). Además, habrá diferentes tipos de tareas: TareaGeneral y TareaConFecha, cada una con características adicionales.\n",
    "\n",
    "### Requisitos del Código:\n",
    "\n",
    "1. El programa debe permitir agregar una nueva tarea.\n",
    "2. El programa debe permitir eliminar una tarea existente.\n",
    "3. El programa debe permitir listar todas las tareas con sus detalles.\n",
    "4. El programa debe estar diseñado utilizando POO e incluir herencia.\n"
   ]
  },
  {
   "cell_type": "code",
   "execution_count": 55,
   "metadata": {},
   "outputs": [
    {
     "name": "stdout",
     "output_type": "stream",
     "text": [
      "{'tarea': 'Actualizar el domicilio', 'descripcion': 'Ir al registro civil o una oficina para hacer el cambio de domicilio en el DNI', 'prioridad': 'Alta'}\n",
      "{'tarea': 'Limpiar entrada de vehiculos', 'descripcion': 'Lanzar sal gruesa y espacirlo por la entrada de vehiculos', 'prioridad': 'Alta'}\n",
      "{'tarea': 'Pintar habitacion', 'descripcion': 'Pintar la habitacion de blanco', 'prioridad': 'Baja', 'fecha': '25 de Junio'}\n"
     ]
    }
   ],
   "source": [
    "class TareaGeneral:\n",
    "    listaDeTareas = []\n",
    "    def agregar_Tarea(self,tarea,descripcion,prioridad):\n",
    "        self.tarea = tarea\n",
    "        self.descripcion = descripcion\n",
    "        self.prioridad = prioridad\n",
    "        self.listaDeTareas.append({'tarea': tarea, 'descripcion': descripcion, 'prioridad': prioridad})\n",
    "        \n",
    "    def eliminar_Tarea(self,borrar):\n",
    "        self.borrar = borrar\n",
    "        self.listaDeTareas.pop(borrar)\n",
    "        \n",
    "    def listar_Tareas(self):\n",
    "        for tarea in self.listaDeTareas:\n",
    "            print(tarea)\n",
    "\n",
    "class TareaConFecha(TareaGeneral):\n",
    "    \n",
    "    def agregar_Tarea(self,tarea,descripcion,prioridad,fecha):\n",
    "        super().agregar_Tarea(tarea,descripcion,prioridad)\n",
    "        self.cantidad_elementos = len(self.listaDeTareas)\n",
    "        self.fecha = fecha\n",
    "        self.listaDeTareas[self.cantidad_elementos - 1]['fecha'] = fecha\n",
    "        \n",
    "    def eliminar_Tarea(self,borrar):\n",
    "        super().eliminar_Tarea(borrar)\n",
    "        \n",
    "    def listar_Tareas(self):\n",
    "        super().listar_Tareas()\n",
    "\n",
    "tarea1 = TareaGeneral()\n",
    "tarea1.agregar_Tarea('Actualizar el domicilio','Ir al registro civil o una oficina para hacer el cambio de domicilio en el DNI','Alta')\n",
    "tarea2 = TareaGeneral()\n",
    "tarea2.agregar_Tarea('Limpiar entrada de vehiculos','Lanzar sal gruesa y espacirlo por la entrada de vehiculos','Alta')\n",
    "tarea3 = TareaConFecha()\n",
    "tarea3.agregar_Tarea('Pintar habitacion','Pintar la habitacion de blanco','Baja','25 de Junio')\n",
    "\n",
    "TareaGeneral().listar_Tareas()"
   ]
  }
 ],
 "metadata": {
  "kernelspec": {
   "display_name": "Python 3",
   "language": "python",
   "name": "python3"
  },
  "language_info": {
   "codemirror_mode": {
    "name": "ipython",
    "version": 3
   },
   "file_extension": ".py",
   "mimetype": "text/x-python",
   "name": "python",
   "nbconvert_exporter": "python",
   "pygments_lexer": "ipython3",
   "version": "3.12.0"
  }
 },
 "nbformat": 4,
 "nbformat_minor": 2
}
